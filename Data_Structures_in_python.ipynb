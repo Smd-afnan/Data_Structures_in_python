{
 "cells": [
  {
   "cell_type": "code",
   "execution_count": null,
   "id": "reverse-string",
   "metadata": {},
   "outputs": [],
   "source": [
    "# Write a code to reverse a string\n",
    "def reverse_string(s):\n",
    "    return s[::-1]\n",
    "\n",
    "# Example usage\n",
    "print(reverse_string('hello'))"
   ]
  },
  {
   "cell_type": "code",
   "execution_count": null,
   "id": "count-vowels",
   "metadata": {},
   "outputs": [],
   "source": [
    "# Write a code to count the number of vowels in a string\n",
    "def count_vowels(s):\n",
    "    vowels = 'aeiouAEIOU'\n",
    "    return sum(1 for char in s if char in vowels)\n",
    "\n",
    "# Example usage\n",
    "print(count_vowels('hello'))"
   ]
  },
  {
   "cell_type": "code",
   "execution_count": null,
   "id": "check-palindrome",
   "metadata": {},
   "outputs": [],
   "source": [
    "# Write a code to check if a given string is a palindrome or not\n",
    "def is_palindrome(s):\n",
    "    return s == s[::-1]\n",
    "\n",
    "# Example usage\n",
    "print(is_palindrome('racecar'))"
   ]
  },
  {
   "cell_type": "code",
   "execution_count": null,
   "id": "check-anagrams",
   "metadata": {},
   "outputs": [],
   "source": [
    "# Write a code to check if two given strings are anagrams of each other\n",
    "def are_anagrams(s1, s2):\n",
    "    return sorted(s1) == sorted(s2)\n",
    "\n",
    "# Example usage\n",
    "print(are_anagrams('listen', 'silent'))"
   ]
  },
  {
   "cell_type": "code",
   "execution_count": null,
   "id": "find-substring",
   "metadata": {},
   "outputs": [],
   "source": [
    "# Write a code to find all occurrences of a given substring within another string\n",
    "def find_substring_occurrences(s, sub):\n",
    "    return [i for i in range(len(s)) if s.startswith(sub, i)]\n",
    "\n",
    "# Example usage\n",
    "print(find_substring_occurrences('banana', 'ana'))"
   ]
  },
  {
   "cell_type": "code",
   "execution_count": null,
   "id": "string-compression",
   "metadata": {},
   "outputs": [],
   "source": [
    "# Write a code to perform basic string compression using the counts of repeated characters\n",
    "def compress_string(s):\n",
    "    compressed = []\n",
    "    count = 1\n",
    "    for i in range(1, len(s)):\n",
    "        if s[i] == s[i - 1]:\n",
    "            count += 1\n",
    "        else:\n",
    "            compressed.append(s[i - 1] + str(count))\n",
    "            count = 1\n",
    "    compressed.append(s[-1] + str(count))\n",
    "    return ''.join(compressed)\n",
    "\n",
    "# Example usage\n",
    "print(compress_string('aabcccccaaa'))"
   ]
  },
  {
   "cell_type": "code",
   "execution_count": null,
   "id": "unique-characters",
   "metadata": {},
   "outputs": [],
   "source": [
    "# Write a code to determine if a string has all unique characters\n",
    "def has_unique_characters(s):\n",
    "    return len(s) == len(set(s))\n",
    "\n",
    "# Example usage\n",
    "print(has_unique_characters('abcdef'))"
   ]
  },
  {
   "cell_type": "code",
   "execution_count": null,
   "id": "convert-case",
   "metadata": {},
   "outputs": [],
   "source": [
    "# Write a code to convert a given string to uppercase or lowercase\n",
    "def to_uppercase(s):\n",
    "    return s.upper()\n",
    "\n",
    "def to_lowercase(s):\n",
    "    return s.lower()\n",
    "\n",
    "# Example usage\n",
    "print(to_uppercase('hello'))\n",
    "print(to_lowercase('HELLO'))"
   ]
  },
  {
   "cell_type": "code",
   "execution_count": null,
   "id": "count-words",
   "metadata": {},
   "outputs": [],
   "source": [
    "# Write a code to count the number of words in a string\n",
    "def count_words(s):\n",
    "    return len(s.split())\n",
    "\n",
    "# Example usage\n",
    "print(count_words('hello world'))"
   ]
  },
  {
   "cell_type": "code",
   "execution_count": null,
   "id": "concatenate-strings",
   "metadata": {},
   "outputs": [],
   "source": [
    "# Write a code to concatenate two strings without using the + operator\n",
    "def concatenate_strings(s1, s2):\n",
    "    return '{}{}'.format(s1, s2)\n",
    "\n",
    "# Example usage\n",
    "print(concatenate_strings('hello', 'world'))"
   ]
  },
  {
   "cell_type": "code",
   "execution_count": null,
   "id": "remove-element",
   "metadata": {},
   "outputs": [],
   "source": [
    "# Write a code to remove all occurrences of a specific element from a list\n",
    "def remove_element(lst, element):\n",
    "    return [x for x in lst if x != element]\n",
    "\n",
    "# Example usage\n",
    "print(remove_element([1, 2, 3, 4, 2, 2, 5], 2))"
   ]
  },
  {
   "cell_type": "code",
   "execution_count": null,
   "id": "second-largest",
   "metadata": {},
   "outputs": [],
   "source": [
    "# Implement a code to find the second largest number in a given list of integers\n",
    "def second_largest(lst):\n",
    "    unique_lst = list(set(lst))\n",
    "    unique_lst.sort()\n",
    "    return unique_lst[-2] if len(unique_lst) >= 2 else None\n",
    "\n",
    "# Example usage\n",
    "print(second_largest([1, 2, 3, 4, 5]))"
   ]
  },
  {
   "cell_type": "code",
   "execution_count": null,
   "id": "count-occurrences",
   "metadata": {},
   "outputs": [],
   "source": [
    "# Create a code to count the occurrences of each element in a list and return a dictionary with elements as keys and their counts as values\n",
    "def count_occurrences(lst):\n",
    "    counts = {}\n",
    "    for item in lst:\n",
    "        counts[item] = counts.get(item, 0) + 1\n",
    "    return counts\n",
    "\n",
    "# Example usage\n",
    "print(count_occurrences([1, 2, 2, 3, 3, 3, 4]))"
   ]
  },
  {
   "cell_type": "code",
   "execution_count": null,
   "id": "reverse-list",
   "metadata": {},
   "outputs": [],
   "source": [
    "# Write a code to reverse a list in-place without using any built-in reverse functions\n",
    "def reverse_list(lst):\n",
    "    left, right = 0, len(lst) - 1\n",
    "    while left < right:\n",
    "        lst[left], lst[right] = lst[right], lst[left]\n",
    "        left += 1\n",
    "        right -= 1\n",
    "    return lst\n",
    "\n",
    "# Example usage\n",
    "print(reverse_list([1, 2, 3, 4, 5]))"
   ]
  },
  {
   "cell_type": "code",
   "execution_count": null,
   "id": "remove-duplicates",
   "metadata": {},
   "outputs": [],
   "source": [
    "# Implement a code to find and remove duplicates from a list while preserving the original order of elements\n",
    "def remove_duplicates(lst):\n",
    "    seen = set()\n",
    "    result = []\n",
    "    for item in lst:\n",
    "        if item not in seen:\n",
    "            seen.add(item)\n",
    "            result.append(item)\n",
    "    return result\n",
    "\n",
    "# Example usage\n",
    "print(remove_duplicates([1, 2, 2, 3, 4, 4, 5]))"
   ]
  },
  {
   "cell_type": "code",
   "execution_count": null,
   "id": "check-sorted",
   "metadata": {},
   "outputs": [],
   "source": [
    "# Create a code to check if a given list is sorted (either in ascending or descending order) or not\n",
    "def is_sorted(lst):\n",
    "    return lst == sorted(lst) or lst == sorted(lst, reverse=True)\n",
    "\n",
    "# Example usage\n",
    "print(is_sorted([1, 2, 3, 4, 5]))\n",
    "print(is_sorted([5, 4, 3, 2, 1]))"
   ]
  },
  {
   "cell_type": "code",
   "execution_count": null,
   "id": "merge-sorted-lists",
   "metadata": {},
   "outputs": [],
   "source": [
    "# Write a code to merge two sorted lists into a single sorted list\n",
    "def merge_sorted_lists(lst1, lst2):\n",
    "    result = []\n",
    "    i, j = 0, 0\n",
    "    while i < len(lst1) and j < len(lst2):\n",
    "        if lst1[i] < lst2[j]:\n",
    "            result.append(lst1[i])\n",
    "            i += 1\n",
    "        else:\n",
    "            result.append(lst2[j])\n",
    "            j += 1\n",
    "    result.extend(lst1[i:])\n",
    "    result.extend(lst2[j:])\n",
    "    return result\n",
    "\n",
    "# Example usage\n",
    "print(merge_sorted_lists([1, 3, 5], [2, 4, 6]))"
   ]
  },
  {
   "cell_type": "code",
   "execution_count": null,
   "id": "list-intersection",
   "metadata": {},
   "outputs": [],
   "source": [
    "# Implement a code to find the intersection of two given lists\n",
    "def list_intersection(lst1, lst2):\n",
    "    return list(set(lst1) & set(lst2))\n",
    "\n",
    "# Example usage\n",
    "print(list_intersection([1, 2, 3], [2, 3, 4]))"
   ]
  },
  {
   "cell_type": "code",
   "execution_count": null,
   "id": "list-union",
   "metadata": {},
   "outputs": [],
   "source": [
    "# Create a code to find the union of two lists without duplicates\n",
    "def list_union(lst1, lst2):\n",
    "    return list(set(lst1) | set(lst2))\n",
    "\n",
    "# Example usage\n",
    "print(list_union([1, 2, 3], [2, 3, 4]))"
   ]
  },
  {
   "cell_type": "code",
   "execution_count": null,
   "id": "shuffle-list",
   "metadata": {},
   "outputs": [],
   "source": [
    "# Write a code to shuffle a given list randomly without using any built-in shuffle functions\n",
    "import random\n",
    "def shuffle_list(lst):\n",
    "    for i in range(len(lst) - 1, 0, -1):\n",
    "        j = random.randint(0, i)\n",
    "        lst[i], lst[j] = lst[j], lst[i]\n",
    "    return lst\n",
    "\n",
    "# Example usage\n",
    "print(shuffle_list([1, 2, 3, 4, 5]))"
   ]
  },
  {
   "cell_type": "code",
   "execution_count": null,
   "id": "tuple-intersection",
   "metadata": {},
   "outputs": [],
   "source": [
    "# Write a code that takes two tuples as input and returns a new tuple containing elements that are common to both input tuples\n",
    "def tuple_intersection(t1, t2):\n",
    "    return tuple(set(t1) & set(t2))\n",
    "\n",
    "# Example usage\n",
    "print(tuple_intersection((1, 2, 3), (2, 3, 4)))"
   ]
  },
  {
   "cell_type": "code",
   "execution_count": null,
   "id": "set-intersection",
   "metadata": {},
   "outputs": [],
   "source": [
    "# Create a code that prompts the user to enter two sets of integers separated by commas. Then, print the intersection of these two sets\n",
    "def input_set_intersection():\n",
    "    set1 = set(map(int, input('Enter first set of integers separated by commas: ').split(',')))\n",
    "    set2 = set(map(int, input('Enter second set of integers separated by commas: ').split(',')))\n",
    "    print('Intersection:', set1 & set2)\n",
    "\n",
    "# Example usage\n",
    "# input_set_intersection()"
   ]
  },
  {
   "cell_type": "code",
   "execution_count": null,
   "id": "concatenate-tuples",
   "metadata": {},
   "outputs": [],
   "source": [
    "# Write a code to concatenate two tuples. The function should take two tuples as input and return a new tuple containing elements from both input tuples\n",
    "def concatenate_tuples(t1, t2):\n",
    "    return t1 + t2\n",
    "\n",
    "# Example usage\n",
    "print(concatenate_tuples((1, 2, 3), (4, 5, 6)))"
   ]
  },
  {
   "cell_type": "code",
   "execution_count": null,
   "id": "set-difference",
   "metadata": {},
   "outputs": [],
   "source": [
    "# Develop a code that prompts the user to input two sets of strings. Then, print the elements that are present in the first set but not in the second set\n",
    "def input_set_difference():\n",
    "    set1 = set(input('Enter first set of strings separated by commas: ').split(','))\n",
    "    set2 = set(input('Enter second set of strings separated by commas: ').split(','))\n",
    "    print('Difference:', set1 - set2)\n",
    "\n",
    "# Example usage\n",
    "# input_set_difference()"
   ]
  },
  {
   "cell_type": "code",
   "execution_count": null,
   "id": "tuple-slice",
   "metadata": {},
   "outputs": [],
   "source": [
    "# Create a code that takes a tuple and two integers as input. The function should return a new tuple containing elements from the original tuple within the specified range of indices\n",
    "def tuple_slice(t, start, end):\n",
    "    return t[start:end]\n",
    "\n",
    "# Example usage\n",
    "print(tuple_slice((1, 2, 3, 4, 5), 1, 3))"
   ]
  },
  {
   "cell_type": "code",
   "execution_count": null,
   "id": "set-union",
   "metadata": {},
   "outputs": [],
   "source": [
    "# Write a code that prompts the user to input two sets of characters. Then, print the union of these two sets\n",
    "def input_set_union():\n",
    "    set1 = set(input('Enter first set of characters separated by commas: ').split(','))\n",
    "    set2 = set(input('Enter second set of characters separated by commas: ').split(','))\n",
    "    print('Union:', set1 | set2)\n",
    "\n",
    "# Example usage\n",
    "# input_set_union()"
   ]
  },
  {
   "cell_type": "code",
   "execution_count": null,
   "id": "tuple-min-max",
   "metadata": {},
   "outputs": [],
   "source": [
    "# Develop a code that takes a tuple of integers as input. The function should return the maximum and minimum values from the tuple using tuple unpacking\n",
    "def tuple_min_max(t):\n",
    "    return min(t), max(t)\n",
    "\n",
    "# Example usage\n",
    "print(tuple_min_max((1, 2, 3, 4, 5)))"
   ]
  },
  {
   "cell_type": "code",
   "execution_count": null,
   "id": "set-operations",
   "metadata": {},
   "outputs": [],
   "source": [
    "# Create a code that defines two sets of integers. Then, print the union, intersection, and difference of these two sets\n",
    "def set_operations(set1, set2):\n",
    "    print('Union:', set1 | set2)\n",
    "    print('Intersection:', set1 & set2)\n",
    "    print('Difference:', set1 - set2)\n",
    "\n",
    "# Example usage\n",
    "set_operations({1, 2, 3}, {2, 3, 4})"
   ]
  },
  {
   "cell_type": "code",
   "execution_count": null,
   "id": "tuple-count",
   "metadata": {},
   "outputs": [],
   "source": [
    "# Write a code that takes a tuple and an element as input. The function should return the count of occurrences of the given element in the tuple\n",
    "def tuple_count(t, element):\n",
    "    return t.count(element)\n",
    "\n",
    "# Example usage\n",
    "print(tuple_count((1, 2, 2, 3, 4, 2), 2))"
   ]
  },
  {
   "cell_type": "code",
   "execution_count": null,
   "id": "set-symmetric-difference",
   "metadata": {},
   "outputs": [],
   "source": [
    "# Develop a code that prompts the user to input two sets of strings. Then, print the symmetric difference of these two sets\n",
    "def input_set_symmetric_difference():\n",
    "    set1 = set(input('Enter first set of strings separated by commas: ').split(','))\n",
    "    set2 = set(input('Enter second set of strings separated by commas: ').split(','))\n",
    "    print('Symmetric Difference:', set1 ^ set2)\n",
    "\n",
    "# Example usage\n",
    "# input_set_symmetric_difference()"
   ]
  },
  {
   "cell_type": "code",
   "execution_count": null,
   "id": "word-frequency",
   "metadata": {},
   "outputs": [],
   "source": [
    "# Write a code that takes a list of words as input and returns a dictionary where the keys are unique words and the values are the frequencies of those words in the input list\n",
    "def word_frequency(words):\n",
    "    freq = {}\n",
    "    for word in words:\n",
    "        freq[word] = freq.get(word, 0) + 1\n",
    "    return freq\n",
    "\n",
    "# Example usage\n",
    "print(word_frequency(['apple', 'banana', 'apple', 'orange', 'banana', 'apple']))"
   ]
  },
  {
   "cell_type": "code",
   "execution_count": null,
   "id": "merge-dictionaries",
   "metadata": {},
   "outputs": [],
   "source": [
    "# Write a code that takes two dictionaries as input and merges them into a single dictionary. If there are common keys, the values should be added together\n",
    "def merge_dictionaries(dict1, dict2):\n",
    "    merged = dict1.copy()\n",
    "    for key, value in dict2.items():\n",
    "        merged[key] = merged.get(key, 0) + value\n",
    "    return merged\n",
    "\n",
    "# Example usage\n",
    "print(merge_dictionaries({'a': 1, 'b': 2}, {'b': 3, 'c': 4}))"
   ]
  },
  {
   "cell_type": "code",
   "execution_count": null,
   "id": "nested-dictionary-access",
   "metadata": {},
   "outputs": [],
   "source": [
    "# Write a code to access a value in a nested dictionary. The function should take the dictionary and a list of keys as input, and return the corresponding value. If any of the keys do not exist in the dictionary, the function should return None\n",
    "def nested_dict_access(d, keys):\n",
    "    for key in keys:\n",
    "        if isinstance(d, dict) and key in d:\n",
    "            d = d[key]\n",
    "        else:\n",
    "            return None\n",
    "    return d\n",
    "\n",
    "# Example usage\n",
    "nested_dict = {'a': {'b': {'c': 42}}}\n",
    "print(nested_dict_access(nested_dict, ['a', 'b', 'c']))\n",
    "print(nested_dict_access(nested_dict, ['a', 'x', 'c']))"
   ]
  },
  {
   "cell_type": "code",
   "execution_count": null,
   "id": "sort-dictionary",
   "metadata": {},
   "outputs": [],
   "source": [
    "# Write a code that takes a dictionary as input and returns a sorted version of it based on the values. You can choose whether to sort in ascending or descending order\n",
    "def sort_dict_by_values(d, ascending=True):\n",
    "    return dict(sorted(d.items(), key=lambda item: item[1], reverse=not ascending))\n",
    "\n",
    "# Example usage\n",
    "print(sort_dict_by_values({'a': 3, 'b': 1, 'c': 2}, ascending=True))\n",
    "print(sort_dict_by_values({'a': 3, 'b': 1, 'c': 2}, ascending=False))"
   ]
  },
  {
   "cell_type": "code",
   "execution_count": null,
   "id": "invert-dictionary",
   "metadata": {},
   "outputs": [],
   "source": [
    "# Write a code that inverts a dictionary, swapping keys and values. Ensure that the inverted dictionary correctly handles cases where multiple keys have the same value by storing the keys as a list in the inverted dictionary\n",
    "def invert_dict(d):\n",
    "    inverted = {}\n",
    "    for key, value in d.items():\n",
    "        if value not in inverted:\n",
    "            inverted[value] = [key]\n",
    "        else:\n",
    "            inverted[value].append(key)\n",
    "    return inverted\n",
    "\n",
    "# Example usage\n",
    "print(invert_dict({'a': 1, 'b': 2, 'c': 1}))"
   ]
  }
 ],
 "metadata": {
  "kernelspec": {
   "display_name": "Python 3",
   "language": "python",
   "name": "python3"
  },
  "language_info": {
   "codemirror_mode": {
    "name": "ipython",
    "version": 3
   },
   "file_extension": ".py",
   "mimetype": "text/x-python",
   "name": "python",
   "nbconvert_exporter": "python",
   "pygments_lexer": "ipython3",
   "version": "3.8.5"
  }
 },
 "nbformat": 4,
 "nbformat_minor": 5
}
